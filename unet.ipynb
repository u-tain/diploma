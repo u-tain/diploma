%matplotlib inline
import numpy as np 
import pandas as pd 
import random
import pickle
import torch
from matplotlib import pyplot as plt 
import torchvision.models as models
from torchvision import transforms as T
import torchvision.transforms.functional as TF
import torch.nn as nn 
import torch.nn.functional as F
from tqdm import tqdm, tqdm_notebook
import matplotlib.pyplot as plt
import cv2
import os
from pathlib import Path
from IPython.display import clear_output
from PIL import Image
from sklearn.preprocessing import LabelEncoder
from pathlib import Path
from torch.utils.data import Dataset, DataLoader
for dirname, _, filenames in os.walk('/kaggle/input'):
    for filename in filenames:
        print(os.path.join(dirname, filename))
